{
 "cells": [
  {
   "cell_type": "code",
   "execution_count": 1,
   "metadata": {},
   "outputs": [],
   "source": [
    "\n",
    "import os\n",
    "os.environ['PYTENSOR_FLAGS'] = 'floatX=float32'\n",
    "import numpy as np\n",
    "\n",
    "from pcntoolkit.normative_model.norm_utils import norm_init\n",
    "from pcntoolkit.util.utils import simulate_data\n",
    "import matplotlib.pyplot as plt\n",
    "from pcntoolkit.normative import estimate\n",
    "from warnings import filterwarnings\n",
    "filterwarnings('ignore')\n",
    "import pymc as pm\n",
    "import pytensor\n",
    "import cProfile\n",
    "import timeit\n",
    "import pickle\n"
   ]
  },
  {
   "cell_type": "code",
   "execution_count": 2,
   "metadata": {},
   "outputs": [],
   "source": [
    "\n",
    "\n",
    "########################### Experiment Settings ###############################\n",
    "\n",
    "\n",
    "random_state = 29\n",
    "\n",
    "working_dir = '/home/guus/tmp'  # Specify a working directory to save data and results.\n",
    "\n",
    "simulation_method = 'linear'\n",
    "n_features = 1      # The number of input features of X\n",
    "n_grps = 10          # Number of batches in data\n",
    "n_samples = 2500     # Number of samples in each group (use a list for different\n",
    "# sample numbers across different batches)\n",
    "\n",
    "model_type = 'bspline' #  modelto try 'linear, ''polynomial', 'bspline'   \n",
    "\n"
   ]
  },
  {
   "cell_type": "code",
   "execution_count": 3,
   "metadata": {},
   "outputs": [],
   "source": [
    "\n",
    "\n",
    "# ############################## Data Simulation ################################\n",
    "\n",
    "\n",
    "# X_train, Y_train, grp_id_train, X_test, Y_test, grp_id_test, coef = \\\n",
    "#     simulate_data(simulation_method, n_samples, n_features, n_grps,\n",
    "#                   working_dir=working_dir, plot=True, noise='heteroscedastic_nongaussian', \n",
    "#                   random_state=random_state)\n"
   ]
  },
  {
   "cell_type": "code",
   "execution_count": 4,
   "metadata": {},
   "outputs": [],
   "source": [
    "# train_sex_mask = np.random.choice([0, 1], size=X_train.shape[0])\n",
    "# Y_train[train_sex_mask == 0] += 0.2\n",
    "# grp_id_train = np.stack([grp_id_train[:,0], train_sex_mask],axis=1)\n",
    "# print(grp_id_train.shape)\n",
    "\n",
    "\n",
    "# test_sex_mask = np.random.choice([0, 1], size=X_test.shape[0])\n",
    "# Y_test[test_sex_mask == 0] += 0.2\n",
    "# grp_id_test = np.stack([grp_id_test[:,0], test_sex_mask],axis=1)\n",
    "# print(grp_id_test.shape)\n"
   ]
  },
  {
   "cell_type": "code",
   "execution_count": 5,
   "metadata": {},
   "outputs": [],
   "source": [
    "# savedir = \"/home/guus/Desktop/pcn_profile_data\"\n",
    "# with open(os.path.join(savedir, 'train_data'), 'wb') as f:\n",
    "#     pickle.dump((X_train, Y_train, grp_id_train), f)\n",
    "# with open(os.path.join(savedir, 'test_data'), 'wb') as f:\n",
    "#     pickle.dump((X_test, Y_test, grp_id_test), f)\n",
    "    "
   ]
  },
  {
   "cell_type": "code",
   "execution_count": 6,
   "metadata": {},
   "outputs": [],
   "source": [
    "savedir = \"/home/guus/Desktop/pcn_profile_data\"\n"
   ]
  },
  {
   "cell_type": "code",
   "execution_count": 7,
   "metadata": {},
   "outputs": [],
   "source": [
    "\n",
    "def load_data():\n",
    "    import pickle\n",
    "    with open(os.path.join(savedir, 'train_data'), 'rb') as f:\n",
    "        X_train, Y_train, grp_id_train = pickle.load(f)\n",
    "    with open(os.path.join(savedir, 'test_data'), 'rb') as f:\n",
    "        X_test, Y_test, grp_id_test = pickle.load(f)\n",
    "    return X_train, Y_train, grp_id_train, X_test, Y_test, grp_id_test"
   ]
  },
  {
   "cell_type": "code",
   "execution_count": 8,
   "metadata": {},
   "outputs": [],
   "source": [
    "X_train, Y_train, grp_id_train, X_test, Y_test, grp_id_test = load_data()"
   ]
  },
  {
   "cell_type": "code",
   "execution_count": 9,
   "metadata": {},
   "outputs": [
    {
     "name": "stdout",
     "output_type": "stream",
     "text": [
      "Model: M4\n",
      "Initializing the model\n",
      "Getting the model\n",
      "Profiling logp\n",
      "Saving profile as text\n",
      "Saving profile as pickle\n",
      "Profiling gradient\n",
      "Saving profile as text\n",
      "Saving profile as pickle\n",
      "Saving visualization of logp\n",
      "The output file is available at /home/guus/Desktop/pcn_profile_data/v30/M4/logp.png\n",
      "Saving visualization of logp gradient\n",
      "The output file is available at /home/guus/Desktop/pcn_profile_data/v30/M4/logp_grad.png\n"
     ]
    }
   ],
   "source": [
    "\n",
    "################################# Fittig and Predicting ###############################\n",
    "model_confs = {\"M4\":{\"random_intercept_mu\":'True',\"likelihood\":\"SHASHb\"}}\n",
    "\n",
    "# model_confs = {\"M1\":{\"random_intercept_mu\":'False',\"likelihood\":\"Normal\"},\n",
    "#                \"M2\":{\"random_intercept_mu\":'True',\"likelihood\":\"Normal\"},\n",
    "#                \"M3\":{\"random_intercept_mu\":'True',\"likelihood\":\"SHASHo\"},\n",
    "#                \"M4\":{\"random_intercept_mu\":'True',\"likelihood\":\"SHASHb\"}}\n",
    "\n",
    "for model_name, model_conf in model_confs.items():\n",
    "    print(f\"Model: {model_name}\")\n",
    "    print(\"Initializing the model\")\n",
    "    nm = norm_init(X_train, Y_train, \n",
    "               alg='hbr',\n",
    "               model_type=model_type,\n",
    "               linear_mu='True',\n",
    "               random_slope_mu='False',\n",
    "               linear_sigma='False',\n",
    "               linear_epsilon='False',\n",
    "               linear_delta='False',\n",
    "               **model_conf)\n",
    "    \n",
    "    os.makedirs(os.path.join(savedir, 'v30', model_name), exist_ok=True)\n",
    "\n",
    "    print(\"Getting the model\")\n",
    "    model = nm.hbr.get_model(X_train, Y_train, grp_id_train)\n",
    "\n",
    "    print(\"Profiling logp\")\n",
    "    logp_profile = model.profile(model.logp())\n",
    "    print(\"Saving profile as text\")\n",
    "    with open(os.path.join(savedir, 'v30', model_name, 'logp_profile.txt'), 'wt') as a:\n",
    "        logp_profile.summary(a)\n",
    "    print(\"Saving profile as pickle\")\n",
    "    with open(os.path.join(savedir, 'v30', model_name, 'logp_profile.pkl'), 'wb') as a:\n",
    "        pickle.dump(logp_profile, a)\n",
    "\n",
    "\n",
    "    print(\"Profiling gradient\")\n",
    "    grad_profile = model.profile(pm.gradient(model.logp())) \n",
    "    print(\"Saving profile as text\")\n",
    "    with open(os.path.join(savedir, 'v30', model_name, 'grad_profile.txt'), 'wt') as a:\n",
    "        grad_profile.summary(a)\n",
    "    print(\"Saving profile as pickle\")\n",
    "    with open(os.path.join(savedir, 'v30', model_name, 'grad_profile.pkl'), 'wb') as a:\n",
    "        pickle.dump(grad_profile, a)\n",
    "        \n",
    "    print(\"Saving visualization of logp\")\n",
    "    pytensor.printing.pydotprint(model.logp(), os.path.join(savedir,'v30', model_name, 'logp.png'), var_with_name_simple=True)\n",
    "    print(\"Saving visualization of logp gradient\")\n",
    "    pytensor.printing.pydotprint(pm.gradient(model.logp()), os.path.join(savedir,'v30', model_name, 'logp_grad.png'), var_with_name_simple=True)"
   ]
  },
  {
   "cell_type": "code",
   "execution_count": null,
   "metadata": {},
   "outputs": [],
   "source": [
    "\n",
    "nm = norm_init(X_train, Y_train, \n",
    "               alg='hbr',\n",
    "               model_type=model_type,\n",
    "               likelihood='Normal',\n",
    "               linear_mu='True',\n",
    "               random_intercept_mu='False',\n",
    "               random_slope_mu='False',\n",
    "               linear_sigma='False',\n",
    "               linear_epsilon='False',\n",
    "               linear_delta='False')\n"
   ]
  },
  {
   "cell_type": "code",
   "execution_count": 10,
   "metadata": {},
   "outputs": [],
   "source": [
    "model = nm.hbr.get_model(X_train, Y_train, grp_id_train)"
   ]
  },
  {
   "cell_type": "code",
   "execution_count": 15,
   "metadata": {},
   "outputs": [],
   "source": [
    "\n",
    "grad_profile = model.profile(pm.gradient(model.logp())) \n",
    "\n",
    "with open('grad_profile.txt', 'wt') as a:\n",
    "    grad_profile.summary(a)"
   ]
  },
  {
   "cell_type": "markdown",
   "metadata": {},
   "source": []
  },
  {
   "cell_type": "code",
   "execution_count": 8,
   "metadata": {},
   "outputs": [
    {
     "name": "stdout",
     "output_type": "stream",
     "text": [
      "<class 'pytensor.tensor.variable.TensorVariable'>\n"
     ]
    }
   ],
   "source": [
    "print(type(model.logp()))"
   ]
  },
  {
   "cell_type": "code",
   "execution_count": 9,
   "metadata": {},
   "outputs": [
    {
     "name": "stdout",
     "output_type": "stream",
     "text": [
      "The output file is available at model_logp.png\n"
     ]
    }
   ],
   "source": [
    "pytensor.printing.pydotprint(model.logp(), outfile=\"model_logp.png\", var_with_name_simple=True)"
   ]
  },
  {
   "cell_type": "code",
   "execution_count": 53,
   "metadata": {},
   "outputs": [
    {
     "data": {
      "text/plain": [
       "0.30615136500273366"
      ]
     },
     "execution_count": 53,
     "metadata": {},
     "output_type": "execute_result"
    }
   ],
   "source": [
    "a = np.random.randn(50,50)\n",
    "timeit.timeit(lambda : a.reshape(-1), number=1000000)\n"
   ]
  },
  {
   "cell_type": "code",
   "execution_count": 34,
   "metadata": {},
   "outputs": [
    {
     "data": {
      "text/plain": [
       "2.054333816999133"
      ]
     },
     "execution_count": 34,
     "metadata": {},
     "output_type": "execute_result"
    }
   ],
   "source": [
    "timeit.timeit(lambda : np.reshape(a, -1), number=1000000)\n"
   ]
  },
  {
   "cell_type": "code",
   "execution_count": 10,
   "metadata": {},
   "outputs": [
    {
     "data": {
      "text/plain": [
       "array([ 0.17341095, -0.2507605 ,  2.1881623 , ...,  0.78394736,\n",
       "        0.21933634, -0.60980084])"
      ]
     },
     "execution_count": 10,
     "metadata": {},
     "output_type": "execute_result"
    }
   ],
   "source": [
    "np.reshape(a, -1)"
   ]
  },
  {
   "cell_type": "code",
   "execution_count": null,
   "metadata": {},
   "outputs": [],
   "source": []
  }
 ],
 "metadata": {
  "kernelspec": {
   "display_name": "pcntk_dev",
   "language": "python",
   "name": "python3"
  },
  "language_info": {
   "codemirror_mode": {
    "name": "ipython",
    "version": 3
   },
   "file_extension": ".py",
   "mimetype": "text/x-python",
   "name": "python",
   "nbconvert_exporter": "python",
   "pygments_lexer": "ipython3",
   "version": "3.12.2"
  }
 },
 "nbformat": 4,
 "nbformat_minor": 2
}
